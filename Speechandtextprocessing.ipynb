{
  "nbformat": 4,
  "nbformat_minor": 0,
  "metadata": {
    "colab": {
      "name": "Speechandtextprocessing.ipynb",
      "provenance": [],
      "authorship_tag": "ABX9TyMn8HKOZ5SkracB/er3O5GE",
      "include_colab_link": true
    },
    "kernelspec": {
      "name": "python3",
      "display_name": "Python 3"
    }
  },
  "cells": [
    {
      "cell_type": "markdown",
      "metadata": {
        "id": "view-in-github",
        "colab_type": "text"
      },
      "source": [
        "<a href=\"https://colab.research.google.com/github/khamoh/NaturalLangProcessing/blob/master/Speechandtextprocessing.ipynb\" target=\"_parent\"><img src=\"https://colab.research.google.com/assets/colab-badge.svg\" alt=\"Open In Colab\"/></a>"
      ]
    },
    {
      "cell_type": "code",
      "metadata": {
        "id": "1huj9pDOUgrg",
        "colab_type": "code",
        "colab": {}
      },
      "source": [
        "# Speech to Text Conversion \n",
        "#conda install pyaudio\n",
        "#pip install Speechrecognition\n",
        "#pip install pyttsx3"
      ],
      "execution_count": 0,
      "outputs": []
    },
    {
      "cell_type": "code",
      "metadata": {
        "id": "hU6R4UD8Urg3",
        "colab_type": "code",
        "colab": {}
      },
      "source": [
        "import speech_recognition as sr "
      ],
      "execution_count": 0,
      "outputs": []
    },
    {
      "cell_type": "code",
      "metadata": {
        "id": "jpyw6C-BUtOL",
        "colab_type": "code",
        "colab": {}
      },
      "source": [
        "# create a recogniser object \n",
        "# \n",
        "r = sr.Recognizer()"
      ],
      "execution_count": 0,
      "outputs": []
    },
    {
      "cell_type": "code",
      "metadata": {
        "id": "5WD8kRayUtWP",
        "colab_type": "code",
        "colab": {}
      },
      "source": [
        "# record audio    # device manager audion manager , first one is default \n",
        "with sr.Microphone(1) as source:\n",
        "    audio = r.listen(source, phrase_time_limit=0)"
      ],
      "execution_count": 0,
      "outputs": []
    },
    {
      "cell_type": "code",
      "metadata": {
        "id": "jE5za9NhUtTY",
        "colab_type": "code",
        "colab": {}
      },
      "source": [
        "#convert that to text \n",
        "\n",
        "text= r.recognize_google(audio)\n",
        "print(text)\n"
      ],
      "execution_count": 0,
      "outputs": []
    },
    {
      "cell_type": "code",
      "metadata": {
        "id": "MKOaX0MJUyBQ",
        "colab_type": "code",
        "colab": {}
      },
      "source": [
        "# Text to speech conversion \n",
        "\n",
        "import pyttsx3\n"
      ],
      "execution_count": 0,
      "outputs": []
    },
    {
      "cell_type": "code",
      "metadata": {
        "id": "Ru-JJnkxU09j",
        "colab_type": "code",
        "colab": {}
      },
      "source": [
        "engine = pyttsx3.init()\n",
        "engine.say(\"Hello how are you today, is the weather good \")\n",
        "engine.runAndWait()"
      ],
      "execution_count": 0,
      "outputs": []
    },
    {
      "cell_type": "code",
      "metadata": {
        "id": "bwueiG-jU1vW",
        "colab_type": "code",
        "colab": {}
      },
      "source": [
        "engine.setProperty('rate', 150) # normal rate is 200\n",
        "engine.say(\"Hello how are you today, is the weather good \")\n",
        "engine.runAndWait()"
      ],
      "execution_count": 0,
      "outputs": []
    },
    {
      "cell_type": "code",
      "metadata": {
        "id": "DlnOmaqnU3Jz",
        "colab_type": "code",
        "colab": {}
      },
      "source": [
        "voices = engine.getProperty('voices')\n",
        "voices"
      ],
      "execution_count": 0,
      "outputs": []
    },
    {
      "cell_type": "code",
      "metadata": {
        "id": "BcwTWmt5U4mv",
        "colab_type": "code",
        "colab": {}
      },
      "source": [
        "engine.setProperty('voice', voices[0].id)\n",
        "engine.say(\"Hello how are you today, is the weather good \")\n",
        "engine.runAndWait()\n"
      ],
      "execution_count": 0,
      "outputs": []
    }
  ]
}