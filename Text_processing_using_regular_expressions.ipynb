{
  "nbformat": 4,
  "nbformat_minor": 0,
  "metadata": {
    "colab": {
      "name": "Text processing using regular expressions.ipynb",
      "provenance": [],
      "authorship_tag": "ABX9TyMrcFkPWs2AEIT7lpSFBJ00",
      "include_colab_link": true
    },
    "kernelspec": {
      "name": "python3",
      "display_name": "Python 3"
    }
  },
  "cells": [
    {
      "cell_type": "markdown",
      "metadata": {
        "id": "view-in-github",
        "colab_type": "text"
      },
      "source": [
        "<a href=\"https://colab.research.google.com/github/khamoh/NaturalLangProcessing/blob/master/Text_processing_using_regular_expressions.ipynb\" target=\"_parent\"><img src=\"https://colab.research.google.com/assets/colab-badge.svg\" alt=\"Open In Colab\"/></a>"
      ]
    },
    {
      "cell_type": "code",
      "metadata": {
        "id": "NUpWpi_MVGnG",
        "colab_type": "code",
        "colab": {}
      },
      "source": [
        "import re "
      ],
      "execution_count": 0,
      "outputs": []
    },
    {
      "cell_type": "code",
      "metadata": {
        "id": "lb0KRuguVY_g",
        "colab_type": "code",
        "colab": {}
      },
      "source": [
        "data = \"hello, my mobile number is 78676767676 and what is your number ?\""
      ],
      "execution_count": 0,
      "outputs": []
    },
    {
      "cell_type": "code",
      "metadata": {
        "id": "gnTbt6sfVfPu",
        "colab_type": "code",
        "colab": {
          "base_uri": "https://localhost:8080/",
          "height": 34
        },
        "outputId": "571e7bf8-4be5-4e62-f8d6-999129e91c3d"
      },
      "source": [
        "re.findall(\"[0-9]{10}\", data)"
      ],
      "execution_count": 4,
      "outputs": [
        {
          "output_type": "execute_result",
          "data": {
            "text/plain": [
              "['7867676767']"
            ]
          },
          "metadata": {
            "tags": []
          },
          "execution_count": 4
        }
      ]
    },
    {
      "cell_type": "code",
      "metadata": {
        "id": "p0LAVlkIVqHv",
        "colab_type": "code",
        "colab": {
          "base_uri": "https://localhost:8080/",
          "height": 34
        },
        "outputId": "eec3552e-e3b2-43b2-a0a1-2d6a50d252a3"
      },
      "source": [
        "re.sub(\"[0-9]\", \"****\", data)"
      ],
      "execution_count": 5,
      "outputs": [
        {
          "output_type": "execute_result",
          "data": {
            "text/plain": [
              "'hello, my mobile number is ******************************************** and what is your number ?'"
            ]
          },
          "metadata": {
            "tags": []
          },
          "execution_count": 5
        }
      ]
    },
    {
      "cell_type": "code",
      "metadata": {
        "id": "LpD8nBobVQhy",
        "colab_type": "code",
        "colab": {
          "base_uri": "https://localhost:8080/",
          "height": 34
        },
        "outputId": "ae6a9341-69ec-477d-a474-a3573955b4af"
      },
      "source": [
        "re.sub(\"[0-9]\", \"\", data)"
      ],
      "execution_count": 6,
      "outputs": [
        {
          "output_type": "execute_result",
          "data": {
            "text/plain": [
              "'hello, my mobile number is  and what is your number ?'"
            ]
          },
          "metadata": {
            "tags": []
          },
          "execution_count": 6
        }
      ]
    },
    {
      "cell_type": "code",
      "metadata": {
        "id": "McdeMhWPV3jj",
        "colab_type": "code",
        "colab": {
          "base_uri": "https://localhost:8080/",
          "height": 70
        },
        "outputId": "98ce437b-a9f6-4c7c-a2be-788582368be3"
      },
      "source": [
        "data= ''' hi my birthday is 30-02-1999 and your were born on 01-01-1900 and his bday is 01-12-1960 and friends bday 13/12/2000 \n",
        "please drop me an email on test@test.com and  company@email.com and no reply noreply@data.com \n",
        "'''\n",
        "print(data)"
      ],
      "execution_count": 9,
      "outputs": [
        {
          "output_type": "stream",
          "text": [
            " hi my birthday is 30-02-1999 and your were born on 01-01-1900 and his bday is 01-12-1960 and friends bday 13/12/2000 \n",
            "please drop me an email on test@test.com and  company@email.com and no reply noreply@data.com \n",
            "\n"
          ],
          "name": "stdout"
        }
      ]
    },
    {
      "cell_type": "code",
      "metadata": {
        "id": "PDCOdYEyWdVo",
        "colab_type": "code",
        "colab": {}
      },
      "source": [
        "pattern = \"[0-9]{2}-[0-9]{2}-[0-9]{4} | [0-9]{1,2}/[0-9]{1,2}/[0-9]{4}\""
      ],
      "execution_count": 0,
      "outputs": []
    },
    {
      "cell_type": "code",
      "metadata": {
        "id": "ZAFgKtcoWnSX",
        "colab_type": "code",
        "colab": {
          "base_uri": "https://localhost:8080/",
          "height": 34
        },
        "outputId": "d86d2292-f23b-45be-f6b7-e9724f49837a"
      },
      "source": [
        "re.findall(pattern,data)"
      ],
      "execution_count": 15,
      "outputs": [
        {
          "output_type": "execute_result",
          "data": {
            "text/plain": [
              "['30-02-1999 ', '01-01-1900 ', '01-12-1960 ', ' 13/12/2000']"
            ]
          },
          "metadata": {
            "tags": []
          },
          "execution_count": 15
        }
      ]
    },
    {
      "cell_type": "code",
      "metadata": {
        "id": "gGvV24MfW99t",
        "colab_type": "code",
        "colab": {
          "base_uri": "https://localhost:8080/",
          "height": 34
        },
        "outputId": "f96eaae2-f60a-4dfc-ed62-2b4791e156a5"
      },
      "source": [
        "pattern = \"[0-9a-zA-Z._]+@[0-9a-zA-Z._]+\"\n",
        "re.findall(pattern,data)\n"
      ],
      "execution_count": 16,
      "outputs": [
        {
          "output_type": "execute_result",
          "data": {
            "text/plain": [
              "['test@test.com', 'company@email.com', 'noreply@data.com']"
            ]
          },
          "metadata": {
            "tags": []
          },
          "execution_count": 16
        }
      ]
    }
  ]
}