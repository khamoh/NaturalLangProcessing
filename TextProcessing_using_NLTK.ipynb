{
  "nbformat": 4,
  "nbformat_minor": 0,
  "metadata": {
    "colab": {
      "name": "TextProcessing using NLTK.ipynb",
      "provenance": [],
      "authorship_tag": "ABX9TyMyvGsXQzaSiTRCjsgKw9AE",
      "include_colab_link": true
    },
    "kernelspec": {
      "name": "python3",
      "display_name": "Python 3"
    }
  },
  "cells": [
    {
      "cell_type": "markdown",
      "metadata": {
        "id": "view-in-github",
        "colab_type": "text"
      },
      "source": [
        "<a href=\"https://colab.research.google.com/github/khamoh/NaturalLangProcessing/blob/master/TextProcessing_using_NLTK.ipynb\" target=\"_parent\"><img src=\"https://colab.research.google.com/assets/colab-badge.svg\" alt=\"Open In Colab\"/></a>"
      ]
    },
    {
      "cell_type": "markdown",
      "metadata": {
        "id": "Gu84qG4pa1u8",
        "colab_type": "text"
      },
      "source": [
        "NLTK - widely used for text processing \n",
        "\n",
        "\n",
        "1. Tokenisation - converting string to collection of words or sentences \n",
        "2. Morphological analysis - convert a word to its root form \n",
        "3. Part of speech tagging \n",
        "4. Named entity recognition \n",
        "5. Spelling correction "
      ]
    },
    {
      "cell_type": "code",
      "metadata": {
        "id": "lW-1VK6PbUEH",
        "colab_type": "code",
        "colab": {
          "base_uri": "https://localhost:8080/",
          "height": 194
        },
        "outputId": "f850f220-1b63-4bcd-c1c8-e827b2a2c853"
      },
      "source": [
        "import nltk\n",
        "nltk.download(\"punkt\")\n",
        "nltk.download(\"wordnet\")\n",
        "nltk.download(\"tagsets\")\n",
        "nltk.download(\"averaged_perceptron_tagger\")"
      ],
      "execution_count": 34,
      "outputs": [
        {
          "output_type": "stream",
          "text": [
            "[nltk_data] Downloading package punkt to /root/nltk_data...\n",
            "[nltk_data]   Package punkt is already up-to-date!\n",
            "[nltk_data] Downloading package wordnet to /root/nltk_data...\n",
            "[nltk_data]   Package wordnet is already up-to-date!\n",
            "[nltk_data] Downloading package tagsets to /root/nltk_data...\n",
            "[nltk_data]   Package tagsets is already up-to-date!\n",
            "[nltk_data] Downloading package averaged_perceptron_tagger to\n",
            "[nltk_data]     /root/nltk_data...\n",
            "[nltk_data]   Unzipping taggers/averaged_perceptron_tagger.zip.\n"
          ],
          "name": "stdout"
        },
        {
          "output_type": "execute_result",
          "data": {
            "text/plain": [
              "True"
            ]
          },
          "metadata": {
            "tags": []
          },
          "execution_count": 34
        }
      ]
    },
    {
      "cell_type": "markdown",
      "metadata": {
        "id": "IuOLwdpMc_4i",
        "colab_type": "text"
      },
      "source": [
        "Tokenization "
      ]
    },
    {
      "cell_type": "code",
      "metadata": {
        "id": "_mVCy0PrcHP7",
        "colab_type": "code",
        "colab": {}
      },
      "source": [
        "data = \"\"\"  My name is XYZ, I live in Solihull. My home is in near shopping center. sometime I\n",
        "go out for shopping, you can contact my at test@test.com and ask for Mr.XYZ\n",
        "\"\"\" "
      ],
      "execution_count": 0,
      "outputs": []
    },
    {
      "cell_type": "code",
      "metadata": {
        "id": "ZznOkJ2icWBW",
        "colab_type": "code",
        "colab": {
          "base_uri": "https://localhost:8080/",
          "height": 105
        },
        "outputId": "c8ba2772-9877-4e8f-bf89-1d8255b23918"
      },
      "source": [
        "data.split('.')"
      ],
      "execution_count": 14,
      "outputs": [
        {
          "output_type": "execute_result",
          "data": {
            "text/plain": [
              "['  My name is XYZ, I live in Solihull',\n",
              " ' My home is in near shopping center',\n",
              " ' sometime I\\ngo out for shopping, you can contact my at test@test',\n",
              " 'com and ask for Mr',\n",
              " 'XYZ\\n']"
            ]
          },
          "metadata": {
            "tags": []
          },
          "execution_count": 14
        }
      ]
    },
    {
      "cell_type": "markdown",
      "metadata": {
        "id": "GH-C6VVKdRGf",
        "colab_type": "text"
      },
      "source": [
        "Sentence Tokenization "
      ]
    },
    {
      "cell_type": "code",
      "metadata": {
        "id": "XOxBjOz_dE9a",
        "colab_type": "code",
        "colab": {
          "base_uri": "https://localhost:8080/",
          "height": 70
        },
        "outputId": "fbd34e90-2ae9-4388-da32-0cf91b77494c"
      },
      "source": [
        "nltk.sent_tokenize(data)"
      ],
      "execution_count": 23,
      "outputs": [
        {
          "output_type": "execute_result",
          "data": {
            "text/plain": [
              "['  My name is XYZ, I live in Solihull.',\n",
              " 'My home is in near shopping center.',\n",
              " 'sometime I\\ngo out for shopping, you can contact my at test@test.com and ask for Mr.XYZ']"
            ]
          },
          "metadata": {
            "tags": []
          },
          "execution_count": 23
        }
      ]
    },
    {
      "cell_type": "code",
      "metadata": {
        "id": "oHI5piXrdj-p",
        "colab_type": "code",
        "colab": {
          "base_uri": "https://localhost:8080/",
          "height": 52
        },
        "outputId": "8120a94c-9e4b-4e91-82c6-d7520a603437"
      },
      "source": [
        "x = nltk.sent_tokenize(data)\n",
        "print(x[2])"
      ],
      "execution_count": 20,
      "outputs": [
        {
          "output_type": "stream",
          "text": [
            "sometime I\n",
            "go out for shopping, you can contact my at test@test.com and ask for Mr.XYZ\n"
          ],
          "name": "stdout"
        }
      ]
    },
    {
      "cell_type": "markdown",
      "metadata": {
        "id": "EJAqmOXSdVs9",
        "colab_type": "text"
      },
      "source": [
        "Word Tokenization "
      ]
    },
    {
      "cell_type": "code",
      "metadata": {
        "id": "RK2CQu8ydYMp",
        "colab_type": "code",
        "colab": {
          "base_uri": "https://localhost:8080/",
          "height": 674
        },
        "outputId": "97c8a381-3e37-4113-cb95-175ac45817b2"
      },
      "source": [
        "nltk.word_tokenize(data)"
      ],
      "execution_count": 16,
      "outputs": [
        {
          "output_type": "execute_result",
          "data": {
            "text/plain": [
              "['My',\n",
              " 'name',\n",
              " 'is',\n",
              " 'XYZ',\n",
              " ',',\n",
              " 'I',\n",
              " 'live',\n",
              " 'in',\n",
              " 'Solihull',\n",
              " '.',\n",
              " 'My',\n",
              " 'home',\n",
              " 'is',\n",
              " 'in',\n",
              " 'near',\n",
              " 'shopping',\n",
              " 'center',\n",
              " '.',\n",
              " 'sometime',\n",
              " 'I',\n",
              " 'go',\n",
              " 'out',\n",
              " 'for',\n",
              " 'shopping',\n",
              " ',',\n",
              " 'you',\n",
              " 'can',\n",
              " 'contact',\n",
              " 'my',\n",
              " 'at',\n",
              " 'test',\n",
              " '@',\n",
              " 'test.com',\n",
              " 'and',\n",
              " 'ask',\n",
              " 'for',\n",
              " 'Mr.XYZ']"
            ]
          },
          "metadata": {
            "tags": []
          },
          "execution_count": 16
        }
      ]
    },
    {
      "cell_type": "markdown",
      "metadata": {
        "id": "Mt0ITmE4d-ny",
        "colab_type": "text"
      },
      "source": [
        "#Morphological analysis\n",
        "- Converting a word to a root form  \n",
        "- children to child \n",
        "- wives to wife \n",
        "- knives to knife \n",
        "\n",
        "\n",
        "Two methods: \n",
        "*   Stemming  - Faster,  less accurate, works on spelling level \n",
        "*   Lemmatization  - slower, more accurate - works on meaning level \n",
        "\n"
      ]
    },
    {
      "cell_type": "markdown",
      "metadata": {
        "id": "FU6q6N3iea7E",
        "colab_type": "text"
      },
      "source": [
        "**Stemming **"
      ]
    },
    {
      "cell_type": "code",
      "metadata": {
        "id": "OojhqidxeZLK",
        "colab_type": "code",
        "colab": {
          "base_uri": "https://localhost:8080/",
          "height": 34
        },
        "outputId": "105b5443-c36d-464d-8cb9-78edc458bfe3"
      },
      "source": [
        "from nltk.stem import PorterStemmer\n",
        "ps = PorterStemmer()\n",
        "ps.stem(\"cars\")"
      ],
      "execution_count": 24,
      "outputs": [
        {
          "output_type": "execute_result",
          "data": {
            "text/plain": [
              "'car'"
            ]
          },
          "metadata": {
            "tags": []
          },
          "execution_count": 24
        }
      ]
    },
    {
      "cell_type": "code",
      "metadata": {
        "id": "FShyZhVaeqTK",
        "colab_type": "code",
        "colab": {
          "base_uri": "https://localhost:8080/",
          "height": 34
        },
        "outputId": "efdbb03f-b3b0-423b-88aa-5e91f2114354"
      },
      "source": [
        "ps = PorterStemmer()\n",
        "ps.stem(\"boxes\")"
      ],
      "execution_count": 25,
      "outputs": [
        {
          "output_type": "execute_result",
          "data": {
            "text/plain": [
              "'box'"
            ]
          },
          "metadata": {
            "tags": []
          },
          "execution_count": 25
        }
      ]
    },
    {
      "cell_type": "code",
      "metadata": {
        "id": "7_uFzEmRetHt",
        "colab_type": "code",
        "colab": {
          "base_uri": "https://localhost:8080/",
          "height": 34
        },
        "outputId": "8a90da06-508a-40f9-9c1c-b0cf62122e63"
      },
      "source": [
        "ps = PorterStemmer()\n",
        "ps.stem(\"knives\")"
      ],
      "execution_count": 27,
      "outputs": [
        {
          "output_type": "execute_result",
          "data": {
            "text/plain": [
              "'knive'"
            ]
          },
          "metadata": {
            "tags": []
          },
          "execution_count": 27
        }
      ]
    },
    {
      "cell_type": "code",
      "metadata": {
        "id": "Ged-IZ-3ezn4",
        "colab_type": "code",
        "colab": {
          "base_uri": "https://localhost:8080/",
          "height": 34
        },
        "outputId": "413cb658-59ba-4be6-d3e2-809f8d0fe397"
      },
      "source": [
        "ps = PorterStemmer()\n",
        "ps.stem(\"children\")"
      ],
      "execution_count": 28,
      "outputs": [
        {
          "output_type": "execute_result",
          "data": {
            "text/plain": [
              "'children'"
            ]
          },
          "metadata": {
            "tags": []
          },
          "execution_count": 28
        }
      ]
    },
    {
      "cell_type": "code",
      "metadata": {
        "id": "BjP5QcpXfICa",
        "colab_type": "code",
        "colab": {
          "base_uri": "https://localhost:8080/",
          "height": 34
        },
        "outputId": "177661a8-4185-4f61-bec2-046e87c19280"
      },
      "source": [
        "from nltk.stem import WordNetLemmatizer\n",
        "wd  = WordNetLemmatizer()\n",
        "wd.lemmatize(\"cars\")"
      ],
      "execution_count": 29,
      "outputs": [
        {
          "output_type": "execute_result",
          "data": {
            "text/plain": [
              "'car'"
            ]
          },
          "metadata": {
            "tags": []
          },
          "execution_count": 29
        }
      ]
    },
    {
      "cell_type": "code",
      "metadata": {
        "id": "tTJHLavcfV3n",
        "colab_type": "code",
        "colab": {
          "base_uri": "https://localhost:8080/",
          "height": 34
        },
        "outputId": "ebd6a3d6-a8ab-4b21-b32b-28ec6a54a112"
      },
      "source": [
        "wd  = WordNetLemmatizer()\n",
        "wd.lemmatize(\"children\")"
      ],
      "execution_count": 30,
      "outputs": [
        {
          "output_type": "execute_result",
          "data": {
            "text/plain": [
              "'child'"
            ]
          },
          "metadata": {
            "tags": []
          },
          "execution_count": 30
        }
      ]
    },
    {
      "cell_type": "code",
      "metadata": {
        "id": "YFqPj6H5fj8I",
        "colab_type": "code",
        "colab": {
          "base_uri": "https://localhost:8080/",
          "height": 34
        },
        "outputId": "2f169643-b816-408c-edb7-58d9fa7b3e4b"
      },
      "source": [
        "wd  = WordNetLemmatizer()\n",
        "wd.lemmatize(\"wives\")"
      ],
      "execution_count": 31,
      "outputs": [
        {
          "output_type": "execute_result",
          "data": {
            "text/plain": [
              "'wife'"
            ]
          },
          "metadata": {
            "tags": []
          },
          "execution_count": 31
        }
      ]
    },
    {
      "cell_type": "markdown",
      "metadata": {
        "id": "MHmdqVRpf4SO",
        "colab_type": "text"
      },
      "source": [
        "**Part of Speech Taggin POS Tagging**"
      ]
    },
    {
      "cell_type": "code",
      "metadata": {
        "id": "kiZfFM70f2zX",
        "colab_type": "code",
        "colab": {
          "base_uri": "https://localhost:8080/",
          "height": 247
        },
        "outputId": "94cd4792-d6ef-4eab-de8c-ea8dd738a4b7"
      },
      "source": [
        "nltk.pos_tag(nltk.word_tokenize(\"There was an eagle in the sky and it was looking for food\"))"
      ],
      "execution_count": 35,
      "outputs": [
        {
          "output_type": "execute_result",
          "data": {
            "text/plain": [
              "[('There', 'EX'),\n",
              " ('was', 'VBD'),\n",
              " ('an', 'DT'),\n",
              " ('eagle', 'NN'),\n",
              " ('in', 'IN'),\n",
              " ('the', 'DT'),\n",
              " ('sky', 'NN'),\n",
              " ('and', 'CC'),\n",
              " ('it', 'PRP'),\n",
              " ('was', 'VBD'),\n",
              " ('looking', 'VBG'),\n",
              " ('for', 'IN'),\n",
              " ('food', 'NN')]"
            ]
          },
          "metadata": {
            "tags": []
          },
          "execution_count": 35
        }
      ]
    },
    {
      "cell_type": "code",
      "metadata": {
        "id": "AEXuxKkIgZ-2",
        "colab_type": "code",
        "colab": {
          "base_uri": "https://localhost:8080/",
          "height": 87
        },
        "outputId": "bf59d90d-b07b-4d71-dccf-2e8b4e9b659c"
      },
      "source": [
        "nltk.help.upenn_tagset(\"VBD\")\n"
      ],
      "execution_count": 38,
      "outputs": [
        {
          "output_type": "stream",
          "text": [
            "VBD: verb, past tense\n",
            "    dipped pleaded swiped regummed soaked tidied convened halted registered\n",
            "    cushioned exacted snubbed strode aimed adopted belied figgered\n",
            "    speculated wore appreciated contemplated ...\n"
          ],
          "name": "stdout"
        }
      ]
    },
    {
      "cell_type": "code",
      "metadata": {
        "id": "NJ9sK7fQgqGi",
        "colab_type": "code",
        "colab": {
          "base_uri": "https://localhost:8080/",
          "height": 87
        },
        "outputId": "c0509451-028c-4835-8d03-08cb61beedbe"
      },
      "source": [
        "nltk.help.upenn_tagset(\"NN\")"
      ],
      "execution_count": 39,
      "outputs": [
        {
          "output_type": "stream",
          "text": [
            "NN: noun, common, singular or mass\n",
            "    common-carrier cabbage knuckle-duster Casino afghan shed thermostat\n",
            "    investment slide humour falloff slick wind hyena override subhumanity\n",
            "    machinist ...\n"
          ],
          "name": "stdout"
        }
      ]
    },
    {
      "cell_type": "code",
      "metadata": {
        "id": "M4GYrrLnet-6",
        "colab_type": "code",
        "colab": {}
      },
      "source": [
        ""
      ],
      "execution_count": 0,
      "outputs": []
    },
    {
      "cell_type": "markdown",
      "metadata": {
        "id": "ex-fx95Ogut7",
        "colab_type": "text"
      },
      "source": [
        "## **#NER - Named Entity Research  **"
      ]
    },
    {
      "cell_type": "code",
      "metadata": {
        "id": "r9VXuoN_g564",
        "colab_type": "code",
        "colab": {}
      },
      "source": [
        "import spacy "
      ],
      "execution_count": 0,
      "outputs": []
    },
    {
      "cell_type": "code",
      "metadata": {
        "id": "9o9lGjAOg88K",
        "colab_type": "code",
        "colab": {
          "base_uri": "https://localhost:8080/",
          "height": 265
        },
        "outputId": "5a0848b8-5a25-46f3-c439-e0be3b09fb28"
      },
      "source": [
        "nlp = spacy.load(\"en\") \n",
        "doc = nlp(\"The big grey dog ate all of the chocolate, but fortunately he wasn't sick!\")\n",
        "doc.text.split() "
      ],
      "execution_count": 42,
      "outputs": [
        {
          "output_type": "execute_result",
          "data": {
            "text/plain": [
              "['The',\n",
              " 'big',\n",
              " 'grey',\n",
              " 'dog',\n",
              " 'ate',\n",
              " 'all',\n",
              " 'of',\n",
              " 'the',\n",
              " 'chocolate,',\n",
              " 'but',\n",
              " 'fortunately',\n",
              " 'he',\n",
              " \"wasn't\",\n",
              " 'sick!']"
            ]
          },
          "metadata": {
            "tags": []
          },
          "execution_count": 42
        }
      ]
    },
    {
      "cell_type": "code",
      "metadata": {
        "id": "JMF4tfoAhz8B",
        "colab_type": "code",
        "colab": {}
      },
      "source": [
        "nlp = spacy.load(\"en_core_web_sm\")"
      ],
      "execution_count": 0,
      "outputs": []
    },
    {
      "cell_type": "code",
      "metadata": {
        "id": "02R_LZqxh-iG",
        "colab_type": "code",
        "colab": {}
      },
      "source": [
        "data = nlp(\"Microdoft developped a solution for corona pandemic and we will all work towards finding it in UK on date 01-01-2021, Bill Gates will help us\")"
      ],
      "execution_count": 0,
      "outputs": []
    },
    {
      "cell_type": "code",
      "metadata": {
        "id": "QMr9d_h3iHbB",
        "colab_type": "code",
        "colab": {
          "base_uri": "https://localhost:8080/",
          "height": 51
        },
        "outputId": "12885409-6d83-456a-8628-d6fa52ac7a4f"
      },
      "source": [
        "from spacy import displacy \n",
        "displacy.render(data, style= 'ent', jupyter =True)\n",
        "\n",
        "# organisation read the data and GDPR data can be hidden "
      ],
      "execution_count": 50,
      "outputs": [
        {
          "output_type": "display_data",
          "data": {
            "text/html": [
              "<span class=\"tex2jax_ignore\"><div class=\"entities\" style=\"line-height: 2.5; direction: ltr\">\n",
              "<mark class=\"entity\" style=\"background: #7aecec; padding: 0.45em 0.6em; margin: 0 0.25em; line-height: 1; border-radius: 0.35em;\">\n",
              "    Microdoft\n",
              "    <span style=\"font-size: 0.8em; font-weight: bold; line-height: 1; border-radius: 0.35em; text-transform: uppercase; vertical-align: middle; margin-left: 0.5rem\">ORG</span>\n",
              "</mark>\n",
              " developped a solution for corona pandemic and we will all work towards finding it in \n",
              "<mark class=\"entity\" style=\"background: #feca74; padding: 0.45em 0.6em; margin: 0 0.25em; line-height: 1; border-radius: 0.35em;\">\n",
              "    UK\n",
              "    <span style=\"font-size: 0.8em; font-weight: bold; line-height: 1; border-radius: 0.35em; text-transform: uppercase; vertical-align: middle; margin-left: 0.5rem\">GPE</span>\n",
              "</mark>\n",
              " on date 01-01-2021, \n",
              "<mark class=\"entity\" style=\"background: #aa9cfc; padding: 0.45em 0.6em; margin: 0 0.25em; line-height: 1; border-radius: 0.35em;\">\n",
              "    Bill Gates\n",
              "    <span style=\"font-size: 0.8em; font-weight: bold; line-height: 1; border-radius: 0.35em; text-transform: uppercase; vertical-align: middle; margin-left: 0.5rem\">PERSON</span>\n",
              "</mark>\n",
              " will help us</div></span>"
            ],
            "text/plain": [
              "<IPython.core.display.HTML object>"
            ]
          },
          "metadata": {
            "tags": []
          }
        }
      ]
    },
    {
      "cell_type": "markdown",
      "metadata": {
        "id": "Yc_fK1ixi6_y",
        "colab_type": "text"
      },
      "source": [
        "**Spelling Correction**"
      ]
    },
    {
      "cell_type": "code",
      "metadata": {
        "id": "aA5t_Wbdi-g1",
        "colab_type": "code",
        "colab": {
          "base_uri": "https://localhost:8080/",
          "height": 34
        },
        "outputId": "c7577c19-2874-43f6-ba1f-804b05b8e724"
      },
      "source": [
        "#Higher the distance between the words, lowe the similarity \n",
        "\n",
        "nltk.jaccard_distance(set(\"orange\"), set('orenge'))"
      ],
      "execution_count": 52,
      "outputs": [
        {
          "output_type": "execute_result",
          "data": {
            "text/plain": [
              "0.16666666666666666"
            ]
          },
          "metadata": {
            "tags": []
          },
          "execution_count": 52
        }
      ]
    },
    {
      "cell_type": "code",
      "metadata": {
        "id": "6s7OLis1jY7i",
        "colab_type": "code",
        "colab": {
          "base_uri": "https://localhost:8080/",
          "height": 34
        },
        "outputId": "06df7009-f0b3-4518-df5f-449389f82918"
      },
      "source": [
        "\n",
        "nltk.jaccard_distance(set(\"orange\"), set('random'))"
      ],
      "execution_count": 53,
      "outputs": [
        {
          "output_type": "execute_result",
          "data": {
            "text/plain": [
              "0.5"
            ]
          },
          "metadata": {
            "tags": []
          },
          "execution_count": 53
        }
      ]
    },
    {
      "cell_type": "code",
      "metadata": {
        "id": "C1jWJ27KjdDR",
        "colab_type": "code",
        "colab": {}
      },
      "source": [
        "dictionary = ['Mango','Orange','Icecream']\n",
        "\n",
        "def correct(word):\n",
        "  score =1 \n",
        "  ans = \"\"\n",
        "  for w in dictionary: \n",
        "    dist = nltk.jaccard_distance(set(w), set(word))\n",
        "    if dist << score:\n",
        "      ans = w \n",
        "      score = dist\n",
        "    return ans"
      ],
      "execution_count": 0,
      "outputs": []
    },
    {
      "cell_type": "code",
      "metadata": {
        "id": "IFmiLcdZkJs0",
        "colab_type": "code",
        "colab": {
          "base_uri": "https://localhost:8080/",
          "height": 292
        },
        "outputId": "c47849a3-82c1-4d44-aca2-cf200bcaa972"
      },
      "source": [
        "correct('Mangi')"
      ],
      "execution_count": 56,
      "outputs": [
        {
          "output_type": "error",
          "ename": "TypeError",
          "evalue": "ignored",
          "traceback": [
            "\u001b[0;31m---------------------------------------------------------------------------\u001b[0m",
            "\u001b[0;31mTypeError\u001b[0m                                 Traceback (most recent call last)",
            "\u001b[0;32m<ipython-input-56-05b594ec268e>\u001b[0m in \u001b[0;36m<module>\u001b[0;34m()\u001b[0m\n\u001b[0;32m----> 1\u001b[0;31m \u001b[0mcorrect\u001b[0m\u001b[0;34m(\u001b[0m\u001b[0;34m'Mangi'\u001b[0m\u001b[0;34m)\u001b[0m\u001b[0;34m\u001b[0m\u001b[0;34m\u001b[0m\u001b[0m\n\u001b[0m",
            "\u001b[0;32m<ipython-input-54-2ed2dab2a770>\u001b[0m in \u001b[0;36mcorrect\u001b[0;34m(word)\u001b[0m\n\u001b[1;32m      6\u001b[0m   \u001b[0;32mfor\u001b[0m \u001b[0mw\u001b[0m \u001b[0;32min\u001b[0m \u001b[0mdictionary\u001b[0m\u001b[0;34m:\u001b[0m\u001b[0;34m\u001b[0m\u001b[0;34m\u001b[0m\u001b[0m\n\u001b[1;32m      7\u001b[0m     \u001b[0mdist\u001b[0m \u001b[0;34m=\u001b[0m \u001b[0mnltk\u001b[0m\u001b[0;34m.\u001b[0m\u001b[0mjaccard_distance\u001b[0m\u001b[0;34m(\u001b[0m\u001b[0mset\u001b[0m\u001b[0;34m(\u001b[0m\u001b[0mw\u001b[0m\u001b[0;34m)\u001b[0m\u001b[0;34m,\u001b[0m \u001b[0mset\u001b[0m\u001b[0;34m(\u001b[0m\u001b[0mword\u001b[0m\u001b[0;34m)\u001b[0m\u001b[0;34m)\u001b[0m\u001b[0;34m\u001b[0m\u001b[0;34m\u001b[0m\u001b[0m\n\u001b[0;32m----> 8\u001b[0;31m     \u001b[0;32mif\u001b[0m \u001b[0mdist\u001b[0m \u001b[0;34m<<\u001b[0m \u001b[0mscore\u001b[0m\u001b[0;34m:\u001b[0m\u001b[0;34m\u001b[0m\u001b[0;34m\u001b[0m\u001b[0m\n\u001b[0m\u001b[1;32m      9\u001b[0m       \u001b[0mans\u001b[0m \u001b[0;34m=\u001b[0m \u001b[0mw\u001b[0m\u001b[0;34m\u001b[0m\u001b[0;34m\u001b[0m\u001b[0m\n\u001b[1;32m     10\u001b[0m       \u001b[0mscore\u001b[0m \u001b[0;34m=\u001b[0m \u001b[0mdist\u001b[0m\u001b[0;34m\u001b[0m\u001b[0;34m\u001b[0m\u001b[0m\n",
            "\u001b[0;31mTypeError\u001b[0m: unsupported operand type(s) for <<: 'float' and 'int'"
          ]
        }
      ]
    },
    {
      "cell_type": "code",
      "metadata": {
        "id": "IiH_Imr6kfVB",
        "colab_type": "code",
        "colab": {}
      },
      "source": [
        "      score = dist\n"
      ],
      "execution_count": 0,
      "outputs": []
    }
  ]
}